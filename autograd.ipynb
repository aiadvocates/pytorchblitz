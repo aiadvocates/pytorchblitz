{
 "metadata": {
  "language_info": {
   "codemirror_mode": {
    "name": "ipython",
    "version": 3
   },
   "file_extension": ".py",
   "mimetype": "text/x-python",
   "name": "python",
   "nbconvert_exporter": "python",
   "pygments_lexer": "ipython3",
   "version": "3.8.6-final"
  },
  "orig_nbformat": 2,
  "kernelspec": {
   "name": "Python 3.8.6 64-bit",
   "display_name": "Python 3.8.6 64-bit",
   "metadata": {
    "interpreter": {
     "hash": "4cd7ab41f5fca4b9b44701077e38c5ffd31fe66a6cab21e0214b68d958d0e462"
    }
   }
  }
 },
 "nbformat": 4,
 "nbformat_minor": 2,
 "cells": [
  {
   "source": [
    "# Automatic Differentiation with AutoGrad\n",
    "\n",
    "When training neural networks, the most frequently used algorithm is **back propagation**. In this algorithm, parameters (model weights) are adjusted according to the **gradient** of the loss function with respect to the given parameter.\n",
    "\n",
    "To compute those gradients, PyTorch has a built-in mechanism called **AutoGrad**. It supports automatic computation of gradient for any computational graph.\n",
    "\n",
    "### Tensors, Functions and Computational graph\n",
    "\n",
    "Consider the simplest one-layer neural network, with input `x`, parameters `w` and `b`, and some loss function. It can be defined in PyTorch in the following manner:"
   ],
   "cell_type": "markdown",
   "metadata": {}
  },
  {
   "cell_type": "code",
   "execution_count": 36,
   "metadata": {},
   "outputs": [],
   "source": [
    "import torch\n",
    "x = torch.ones(5) # input tensor\n",
    "y = torch.zeros(3) # expected output\n",
    "w = torch.randn(5,3,requires_grad=True)\n",
    "b = torch.randn(3,requires_grad=True)\n",
    "z = torch.matmul(x,w)+b\n",
    "loss = torch.nn.functional.binary_cross_entropy_with_logits(z,y)"
   ]
  },
  {
   "source": [
    "In this code defines the following **computational graph**:\n",
    "\n",
    "<img height=\"200\" src=\"images/comp-graph.png\"/>\n",
    "\n",
    "In this network, `w` and `b` are **parameters**, which we need to optimize. Thus, we need to be able to compute the gradients of loss function with respect to those variables. In orded to do that, we set the `requires_grad` property of those tensors.\n",
    "\n",
    "> **Note:** You can set the value of `requires_grad` when creating a tensor, or later by using `x.requires_grad_(True)` method.\n",
    "\n",
    "A function that we apply to tensors to construct computational graph is in fact an object of class `Function`. This object knows how to compute the function in the *forward* direction, and also how to compute it's derivative during the *backward propagation* step. A reference to the backward propagation function is stored in `grad_fn` property of a tensor. You can find more information of `Function` [in documentation](https://pytorch.org/docs/stable/autograd.html#function)."
   ],
   "cell_type": "markdown",
   "metadata": {}
  },
  {
   "cell_type": "code",
   "execution_count": 37,
   "metadata": {},
   "outputs": [
    {
     "output_type": "stream",
     "name": "stdout",
     "text": [
      "<AddBackward0 object at 0x7f7645cb7310>\n<BinaryCrossEntropyWithLogitsBackward object at 0x7f7645cb7790>\n"
     ]
    }
   ],
   "source": [
    "print(z.grad_fn,loss.grad_fn,sep='\\n')"
   ]
  },
  {
   "source": [
    "## Computing Gradients\n",
    "\n",
    "To optimize weights of parameters in the neural network, we need to compute the defivatives of our loss function with respect to parameters, namely, we need $\\frac{\\partial loss}{\\partial w}$ and $\\frac{\\partial loss}{\\partial b}$ under some fixed values of `x` and `y`. To compute those derivatives, we call `loss.backward()`, and then retrieve the values from `w.grad` and `b.grad`:"
   ],
   "cell_type": "markdown",
   "metadata": {}
  },
  {
   "cell_type": "code",
   "execution_count": 38,
   "metadata": {},
   "outputs": [
    {
     "output_type": "stream",
     "name": "stdout",
     "text": [
      "tensor([[0.2136, 0.3118, 0.0472],\n        [0.2136, 0.3118, 0.0472],\n        [0.2136, 0.3118, 0.0472],\n        [0.2136, 0.3118, 0.0472],\n        [0.2136, 0.3118, 0.0472]])\ntensor([0.2136, 0.3118, 0.0472])\n"
     ]
    }
   ],
   "source": [
    "loss.backward()\n",
    "print(w.grad)\n",
    "print(b.grad)"
   ]
  },
  {
   "source": [
    "**Notes:** \n",
    "* We can only obtain the `grad` properties for the leaf nodes of the computational graph, which have `requires_grad` property set to `True`. For all other nodes in our graph gradients will not be available.\n",
    "* We can only perform gradient calculations using `backward` once on a given graph, for performance reasons. If we need to do several `backward` calls on the same graph, we need to pass `retain_graph=True` to the `backward` call.\n"
   ],
   "cell_type": "markdown",
   "metadata": {}
  },
  {
   "source": [
    "## Tensor Gradients and Jacobian Products\n",
    "\n",
    "In many cases, we have a scalar loss function, and we need to compute the gradient with respect to some parameters. However, there are cases when the output function is an arbitrary tensor. In this case, PyTorch allows you to compute so-called **Jacobian product**, and not the actual gradient.\n",
    "\n",
    "For a vector function $\\vec{y}=f(\\vec{x})$, where $\\vec{x}=\\langle x_1,\\dots,x_n\\rangle$ and $\\vec{y}=\\langle y_1,\\dots,y_m\\rangle$, a gradient of $\\vec{y}$ with respect to $\\vec{x}$ is given by **Jacobian matrix**:\n",
    "\n",
    "$$\n",
    "\\begin{align}J=\\left(\\begin{array}{ccc}\n",
    "   \\frac{\\partial y_{1}}{\\partial x_{1}} & \\cdots & \\frac{\\partial y_{1}}{\\partial x_{n}}\\\\\n",
    "   \\vdots & \\ddots & \\vdots\\\\\n",
    "   \\frac{\\partial y_{m}}{\\partial x_{1}} & \\cdots & \\frac{\\partial y_{m}}{\\partial x_{n}}\n",
    "   \\end{array}\\right)\\end{align}\n",
    "$$\n",
    "\n",
    "Instead of computing the Jacobian matrix itself, PyTorch allows you to compute **Jacobian Product** $v^T\\cdot J$ for a given input vector $v=(v_1 \\dots v_m)$. This is achieved by calling `backward` with $v$ as an argument. The size of $v$ should be the same as the size of the original tensor, with respect to which we want to compute the product: "
   ],
   "cell_type": "markdown",
   "metadata": {}
  },
  {
   "cell_type": "code",
   "execution_count": 39,
   "metadata": {},
   "outputs": [
    {
     "output_type": "stream",
     "name": "stdout",
     "text": [
      "First call\n tensor([[4., 2., 2., 2., 2.],\n        [2., 4., 2., 2., 2.],\n        [2., 2., 4., 2., 2.],\n        [2., 2., 2., 4., 2.],\n        [2., 2., 2., 2., 4.]])\n\nSecond call\n tensor([[8., 4., 4., 4., 4.],\n        [4., 8., 4., 4., 4.],\n        [4., 4., 8., 4., 4.],\n        [4., 4., 4., 8., 4.],\n        [4., 4., 4., 4., 8.]])\n\nCall after zeroing gradients\n tensor([[4., 2., 2., 2., 2.],\n        [2., 4., 2., 2., 2.],\n        [2., 2., 4., 2., 2.],\n        [2., 2., 2., 4., 2.],\n        [2., 2., 2., 2., 4.]])\n"
     ]
    }
   ],
   "source": [
    "inp = torch.eye(5,requires_grad=True)\n",
    "out = (inp+1).pow(2)\n",
    "out.backward(torch.ones_like(inp),retain_graph=True)\n",
    "print(\"First call\\n\",inp.grad)\n",
    "out.backward(torch.ones_like(inp),retain_graph=True)\n",
    "print(\"\\nSecond call\\n\",inp.grad)\n",
    "inp.grad.zero_()\n",
    "out.backward(torch.ones_like(inp),retain_graph=True)\n",
    "print(\"\\nCall after zeroing gradients\\n\",inp.grad)"
   ]
  },
  {
   "source": [
    "Notice that when we call `backward` for the second time with the same argument, the value of the gradient is different. This happens because when doing `backward` propagation, PyTorch **accumulates the gradients**, i.e. the value of computed gradients is added to the `grad` property of all leaf nodes of computational graph. If you want to compute the proper gradients, you need to zero out the `grad` property before. In real-life training an *optimizer* helps us to do this.\n",
    "\n",
    "**Note:** Previously we were calling `backward()` function without parameters. This is essentially equivalent to calling `backward(torch.tensor(1.0))`, which is a useful way to compute the gradients in case of a scalar-valued function, such as loss during neural network training."
   ],
   "cell_type": "markdown",
   "metadata": {}
  },
  {
   "source": [
    "## Disabling Gradient Tracking\n",
    "\n",
    "By default, all tensors with `requires_grad=True` are tracking their computational history and support gradient computation. However, there are some cases when we do not need to do that, for example, when we have trained the model and just want to apply it to some input data, i.e. we only want to do *forward* computations through the network. We can stop tracking computations by surrounding our computation code with `with torch.no_grad()` block:"
   ],
   "cell_type": "markdown",
   "metadata": {}
  },
  {
   "cell_type": "code",
   "execution_count": 41,
   "metadata": {},
   "outputs": [
    {
     "output_type": "stream",
     "name": "stdout",
     "text": [
      "True\nFalse\n"
     ]
    }
   ],
   "source": [
    "z = torch.matmul(x,w)+b\n",
    "print(z.requires_grad)\n",
    "\n",
    "with torch.no_grad():\n",
    "    z = torch.matmul(x,w)+b\n",
    "print(z.requires_grad)"
   ]
  },
  {
   "source": [
    "Another way to achieve the same result is to use the `detach()` method on the tensor:"
   ],
   "cell_type": "markdown",
   "metadata": {}
  },
  {
   "cell_type": "code",
   "execution_count": 42,
   "metadata": {},
   "outputs": [
    {
     "output_type": "stream",
     "name": "stdout",
     "text": [
      "False\n"
     ]
    }
   ],
   "source": [
    "z = torch.matmul(x,w)+b\n",
    "z_det = z.detach()\n",
    "print(z_det.requires_grad)"
   ]
  },
  {
   "source": [
    "All forward-pass computations on tensors that do not track gradients would be more efficient."
   ],
   "cell_type": "markdown",
   "metadata": {}
  },
  {
   "source": [
    "## Example of Gradient Descent\n",
    "\n",
    "Let's use the AutoGrad functionality to minimize a simple function of two variables $f(x_1,x_2)=(x_1-3)^2+(x_2+2)^2$. We will use the `x` tensor to represent the coordinates of a point. To do the gradient descent, we start with some initial value $x^{(0)}=(0,0)$, and compute each consecutive step using:\n",
    "$$\n",
    "x^{(n+1)} = x^{(n)} - \\eta\\nabla f\n",
    "$$\n",
    "Here $\\eta$ is so-called **learning rate** (we will call it `lr` in our code), and $\\nabla f = (\\frac{\\partial f}{\\partial x_1},\\frac{\\partial f}{\\partial x_2})$ is the gradient of $f$.\n",
    "\n",
    "We will start by defining the initial value of `x` and the function `f`:"
   ],
   "cell_type": "markdown",
   "metadata": {}
  },
  {
   "cell_type": "code",
   "execution_count": 43,
   "metadata": {},
   "outputs": [],
   "source": [
    "x = torch.zeros(2,requires_grad=True)\n",
    "f = lambda x : (x-torch.tensor([3,-2])).pow(2).sum()\n",
    "lr = 0.1"
   ]
  },
  {
   "source": [
    "For the gradient descent, let's do 15 iterations. On each iteration, we will update the coordinate tensor `x` and print its coordinates to make sure that we are approaching the minimum:"
   ],
   "cell_type": "markdown",
   "metadata": {}
  },
  {
   "cell_type": "code",
   "execution_count": 44,
   "metadata": {},
   "outputs": [
    {
     "output_type": "stream",
     "name": "stdout",
     "text": [
      "Step 0: x[0]=0.6000000238418579, x[1]=-0.4000000059604645\nStep 1: x[0]=1.0800000429153442, x[1]=-0.7200000286102295\nStep 2: x[0]=1.4639999866485596, x[1]=-0.9760000705718994\nStep 3: x[0]=1.7711999416351318, x[1]=-1.1808000802993774\nStep 4: x[0]=2.0169599056243896, x[1]=-1.3446400165557861\nStep 5: x[0]=2.2135679721832275, x[1]=-1.4757120609283447\nStep 6: x[0]=2.370854377746582, x[1]=-1.5805696249008179\nStep 7: x[0]=2.4966835975646973, x[1]=-1.6644556522369385\nStep 8: x[0]=2.597346782684326, x[1]=-1.7315645217895508\nStep 9: x[0]=2.677877426147461, x[1]=-1.7852516174316406\nStep 10: x[0]=2.7423019409179688, x[1]=-1.8282012939453125\nStep 11: x[0]=2.793841600418091, x[1]=-1.8625609874725342\nStep 12: x[0]=2.835073232650757, x[1]=-1.8900487422943115\nStep 13: x[0]=2.868058681488037, x[1]=-1.912039041519165\nStep 14: x[0]=2.894446849822998, x[1]=-1.929631233215332\n"
     ]
    }
   ],
   "source": [
    "for i in range(15):\n",
    "    y = f(x)\n",
    "    y.backward()\n",
    "    gr = x.grad\n",
    "    x.data.add_(-lr*gr)\n",
    "    x.grad.zero_()\n",
    "    print(\"Step {}: x[0]={}, x[1]={}\".format(i,x[0],x[1]))"
   ]
  },
  {
   "source": [
    "As you can see, we have obtained the values close to the optimal point $(3,-2)$. Training a neural network is in fact a very similar process, we will need to do a number of iterations to minimize the value of **loss function**."
   ],
   "cell_type": "markdown",
   "metadata": {}
  },
  {
   "cell_type": "code",
   "execution_count": null,
   "metadata": {},
   "outputs": [],
   "source": []
  }
 ]
}